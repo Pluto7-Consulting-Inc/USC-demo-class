{
 "cells": [
  {
   "cell_type": "markdown",
   "metadata": {},
   "source": [
    "# <span style=\"color:blue\">Developing, Training, and Deploying a TensorFlow model on Google Cloud Platform</span> "
   ]
  },
  {
   "cell_type": "markdown",
   "metadata": {},
   "source": [
    "**Import Libraries**"
   ]
  },
  {
   "cell_type": "code",
   "execution_count": 1,
   "metadata": {},
   "outputs": [],
   "source": [
    "import pandas as pd\n",
    "from io import BytesIO\n",
    "import datetime\n",
    "from datetime import timedelta\n",
    "\n",
    "import numpy as np\n",
    "import pandas as pd\n",
    "import tensorflow as tf\n",
    "\n",
    "\n",
    "import matplotlib.pyplot as plt\n",
    "%matplotlib inline\n",
    "import seaborn as sns\n",
    "plt.style.use('seaborn-notebook')\n",
    "sns.set()\n",
    "\n",
    "import datalab.storage as storage"
   ]
  },
  {
   "cell_type": "markdown",
   "metadata": {},
   "source": [
    "## 1. Setting up Cloud Environment on your GCP Project "
   ]
  },
  {
   "cell_type": "markdown",
   "metadata": {},
   "source": [
    "**Change to your bucket and project name, to set up environment in your project, store files in your bucket and to run the model on cloud ml engine**"
   ]
  },
  {
   "cell_type": "code",
   "execution_count": 2,
   "metadata": {},
   "outputs": [],
   "source": [
    "#Make sure you put the correct values here !!!\n",
    "BUCKET='usc-demo'         #Change it based on the name of your GCS Bucket\n",
    "PROJECT='usc-demo-class'  #Change it to your Project Name\n",
    "REGION='us-west1'         #Look at the Region mentioned in details of the Bucket"
   ]
  },
  {
   "cell_type": "code",
   "execution_count": 3,
   "metadata": {},
   "outputs": [],
   "source": [
    "import os\n",
    "os.environ['BUCKET'] = BUCKET\n",
    "os.environ['PROJECT'] = PROJECT\n",
    "os.environ['REGION'] = REGION"
   ]
  },
  {
   "cell_type": "markdown",
   "metadata": {},
   "source": [
    "## 2. Data Preprocessing"
   ]
  },
  {
   "cell_type": "markdown",
   "metadata": {},
   "source": [
    "**Select the data file, date and the target variables that you want to use for the revenue forecast**"
   ]
  },
  {
   "cell_type": "code",
   "execution_count": 4,
   "metadata": {},
   "outputs": [],
   "source": [
    "data_file='data.csv'    #Name of the data File\n",
    "date='date_of_sale'\n",
    "target='net_sales'"
   ]
  },
  {
   "cell_type": "code",
   "execution_count": 5,
   "metadata": {},
   "outputs": [],
   "source": [
    "data = pd.read_csv(data_file, parse_dates=[date])"
   ]
  },
  {
   "cell_type": "code",
   "execution_count": 6,
   "metadata": {},
   "outputs": [
    {
     "data": {
      "text/html": [
       "<div>\n",
       "<style scoped>\n",
       "    .dataframe tbody tr th:only-of-type {\n",
       "        vertical-align: middle;\n",
       "    }\n",
       "\n",
       "    .dataframe tbody tr th {\n",
       "        vertical-align: top;\n",
       "    }\n",
       "\n",
       "    .dataframe thead th {\n",
       "        text-align: right;\n",
       "    }\n",
       "</style>\n",
       "<table border=\"1\" class=\"dataframe\">\n",
       "  <thead>\n",
       "    <tr style=\"text-align: right;\">\n",
       "      <th></th>\n",
       "      <th>Unnamed: 0</th>\n",
       "      <th>Unnamed: 0.1</th>\n",
       "      <th>upc</th>\n",
       "      <th>date_of_sale</th>\n",
       "      <th>store_id</th>\n",
       "      <th>departmentname</th>\n",
       "      <th>categoryname</th>\n",
       "      <th>net_sales</th>\n",
       "      <th>count</th>\n",
       "    </tr>\n",
       "  </thead>\n",
       "  <tbody>\n",
       "    <tr>\n",
       "      <th>0</th>\n",
       "      <td>0</td>\n",
       "      <td>13624305</td>\n",
       "      <td>25097000000</td>\n",
       "      <td>2017-11-22</td>\n",
       "      <td>2</td>\n",
       "      <td>Bakery</td>\n",
       "      <td>Viktor Benes/ Renaud Bakery</td>\n",
       "      <td>12.28</td>\n",
       "      <td>790168</td>\n",
       "    </tr>\n",
       "    <tr>\n",
       "      <th>1</th>\n",
       "      <td>1</td>\n",
       "      <td>13624306</td>\n",
       "      <td>25097000000</td>\n",
       "      <td>2017-01-30</td>\n",
       "      <td>2</td>\n",
       "      <td>Bakery</td>\n",
       "      <td>Viktor Benes/ Renaud Bakery</td>\n",
       "      <td>9.50</td>\n",
       "      <td>790168</td>\n",
       "    </tr>\n",
       "    <tr>\n",
       "      <th>2</th>\n",
       "      <td>2</td>\n",
       "      <td>13624307</td>\n",
       "      <td>25097000000</td>\n",
       "      <td>2016-04-11</td>\n",
       "      <td>2</td>\n",
       "      <td>Bakery</td>\n",
       "      <td>Viktor Benes/ Renaud Bakery</td>\n",
       "      <td>2.75</td>\n",
       "      <td>790168</td>\n",
       "    </tr>\n",
       "    <tr>\n",
       "      <th>3</th>\n",
       "      <td>3</td>\n",
       "      <td>13624308</td>\n",
       "      <td>25097000000</td>\n",
       "      <td>2017-07-02</td>\n",
       "      <td>2</td>\n",
       "      <td>Bakery</td>\n",
       "      <td>Viktor Benes/ Renaud Bakery</td>\n",
       "      <td>8.77</td>\n",
       "      <td>790168</td>\n",
       "    </tr>\n",
       "    <tr>\n",
       "      <th>4</th>\n",
       "      <td>4</td>\n",
       "      <td>13624309</td>\n",
       "      <td>25097000000</td>\n",
       "      <td>2018-05-07</td>\n",
       "      <td>2</td>\n",
       "      <td>Bakery</td>\n",
       "      <td>Viktor Benes/ Renaud Bakery</td>\n",
       "      <td>11.45</td>\n",
       "      <td>790168</td>\n",
       "    </tr>\n",
       "  </tbody>\n",
       "</table>\n",
       "</div>"
      ],
      "text/plain": [
       "   Unnamed: 0  Unnamed: 0.1          upc date_of_sale  store_id  \\\n",
       "0           0      13624305  25097000000   2017-11-22         2   \n",
       "1           1      13624306  25097000000   2017-01-30         2   \n",
       "2           2      13624307  25097000000   2016-04-11         2   \n",
       "3           3      13624308  25097000000   2017-07-02         2   \n",
       "4           4      13624309  25097000000   2018-05-07         2   \n",
       "\n",
       "  departmentname                 categoryname  net_sales   count  \n",
       "0         Bakery  Viktor Benes/ Renaud Bakery      12.28  790168  \n",
       "1         Bakery  Viktor Benes/ Renaud Bakery       9.50  790168  \n",
       "2         Bakery  Viktor Benes/ Renaud Bakery       2.75  790168  \n",
       "3         Bakery  Viktor Benes/ Renaud Bakery       8.77  790168  \n",
       "4         Bakery  Viktor Benes/ Renaud Bakery      11.45  790168  "
      ]
     },
     "execution_count": 6,
     "metadata": {},
     "output_type": "execute_result"
    }
   ],
   "source": [
    "data = data[data.upc == 25097000000]\n",
    "data.head()"
   ]
  },
  {
   "cell_type": "code",
   "execution_count": 7,
   "metadata": {},
   "outputs": [
    {
     "name": "stdout",
     "output_type": "stream",
     "text": [
      "25097000000 Bakery\n"
     ]
    }
   ],
   "source": [
    "upc_code = data.upc[0]\n",
    "departmentname = data.departmentname[0]\n",
    "print(upc_code,departmentname)"
   ]
  },
  {
   "cell_type": "code",
   "execution_count": 8,
   "metadata": {},
   "outputs": [],
   "source": [
    "data = data[[date, target]]"
   ]
  },
  {
   "cell_type": "code",
   "execution_count": 9,
   "metadata": {},
   "outputs": [],
   "source": [
    "data = data.set_index(data[date])"
   ]
  },
  {
   "cell_type": "code",
   "execution_count": 10,
   "metadata": {},
   "outputs": [],
   "source": [
    "data = data.drop(columns = [date])"
   ]
  },
  {
   "cell_type": "code",
   "execution_count": 11,
   "metadata": {},
   "outputs": [],
   "source": [
    "data = data[\"net_sales\"].resample(\"D\").sum()"
   ]
  },
  {
   "cell_type": "code",
   "execution_count": 12,
   "metadata": {},
   "outputs": [],
   "source": [
    "data = data.to_frame()"
   ]
  },
  {
   "cell_type": "code",
   "execution_count": 13,
   "metadata": {},
   "outputs": [
    {
     "data": {
      "text/html": [
       "<div>\n",
       "<style scoped>\n",
       "    .dataframe tbody tr th:only-of-type {\n",
       "        vertical-align: middle;\n",
       "    }\n",
       "\n",
       "    .dataframe tbody tr th {\n",
       "        vertical-align: top;\n",
       "    }\n",
       "\n",
       "    .dataframe thead th {\n",
       "        text-align: right;\n",
       "    }\n",
       "</style>\n",
       "<table border=\"1\" class=\"dataframe\">\n",
       "  <thead>\n",
       "    <tr style=\"text-align: right;\">\n",
       "      <th></th>\n",
       "      <th>net_sales</th>\n",
       "    </tr>\n",
       "    <tr>\n",
       "      <th>date_of_sale</th>\n",
       "      <th></th>\n",
       "    </tr>\n",
       "  </thead>\n",
       "  <tbody>\n",
       "    <tr>\n",
       "      <th>2016-01-03</th>\n",
       "      <td>8223.23</td>\n",
       "    </tr>\n",
       "    <tr>\n",
       "      <th>2016-01-04</th>\n",
       "      <td>7021.80</td>\n",
       "    </tr>\n",
       "    <tr>\n",
       "      <th>2016-01-05</th>\n",
       "      <td>6610.42</td>\n",
       "    </tr>\n",
       "    <tr>\n",
       "      <th>2016-01-06</th>\n",
       "      <td>6445.34</td>\n",
       "    </tr>\n",
       "    <tr>\n",
       "      <th>2016-01-07</th>\n",
       "      <td>7195.91</td>\n",
       "    </tr>\n",
       "  </tbody>\n",
       "</table>\n",
       "</div>"
      ],
      "text/plain": [
       "              net_sales\n",
       "date_of_sale           \n",
       "2016-01-03      8223.23\n",
       "2016-01-04      7021.80\n",
       "2016-01-05      6610.42\n",
       "2016-01-06      6445.34\n",
       "2016-01-07      7195.91"
      ]
     },
     "execution_count": 13,
     "metadata": {},
     "output_type": "execute_result"
    }
   ],
   "source": [
    "data.head()"
   ]
  },
  {
   "cell_type": "code",
   "execution_count": 14,
   "metadata": {},
   "outputs": [],
   "source": [
    "def data_prep(data):\n",
    "    data_np = data.values\n",
    "    train = []\n",
    "    for i in range(90, len(data_np)):\n",
    "        train.append(data_np[i-90:i])\n",
    "        \n",
    "    list_zero = train[0]\n",
    "    df = pd.DataFrame(list_zero).T\n",
    "    \n",
    "    for i in range(1, len(train)):\n",
    "        a = train[i]\n",
    "        b = pd.DataFrame(a).T\n",
    "        b.index = [i]\n",
    "        df = pd.concat((df, b), axis = 0)\n",
    "        \n",
    "    ind = int(0.8*len(df))\n",
    "    train = df[:ind]\n",
    "    eval_ = df[ind:]\n",
    "    test = eval_.iloc[-1]\n",
    "    test = test[30:]\n",
    "    \n",
    "    \n",
    "    last_date = data[-30:-29]\n",
    "    last_date = last_date.index\n",
    "    \n",
    "    dates = []\n",
    "    for i in range(0, 60):\n",
    "        temp = last_date + timedelta(days = 1)\n",
    "        dates.append(last_date)\n",
    "        last_date = temp\n",
    "    dates = pd.DataFrame(dates)\n",
    "    \n",
    "    return train, eval_, test, dates"
   ]
  },
  {
   "cell_type": "code",
   "execution_count": 15,
   "metadata": {},
   "outputs": [],
   "source": [
    "train, eval_, test, dates = data_prep(data)"
   ]
  },
  {
   "cell_type": "code",
   "execution_count": 16,
   "metadata": {},
   "outputs": [],
   "source": [
    "test = test.tolist()"
   ]
  },
  {
   "cell_type": "code",
   "execution_count": 17,
   "metadata": {},
   "outputs": [],
   "source": [
    "train.to_csv(\"train.csv\", index = False, header = False)\n",
    "eval_.to_csv(\"eval.csv\", index = False, header = False)"
   ]
  },
  {
   "cell_type": "code",
   "execution_count": 18,
   "metadata": {},
   "outputs": [],
   "source": [
    "storage.Bucket(BUCKET).item('data/train.csv').write_to(train.to_csv(index=False, header=False),'text/csv')\n",
    "storage.Bucket(BUCKET).item('data/eval.csv').write_to(eval_.to_csv(index=False, header=False),'text/csv')"
   ]
  },
  {
   "cell_type": "markdown",
   "metadata": {},
   "source": [
    "## Train Locally"
   ]
  },
  {
   "cell_type": "code",
   "execution_count": 19,
   "metadata": {},
   "outputs": [],
   "source": [
    "import trainer"
   ]
  },
  {
   "cell_type": "code",
   "execution_count": 20,
   "metadata": {},
   "outputs": [
    {
     "name": "stderr",
     "output_type": "stream",
     "text": [
      "WARNING: Logging before flag parsing goes to stderr.\n",
      "W0711 21:15:01.961075 140694949987776 deprecation_wrapper.py:119] From trainer/model.py:20: The name tf.logging.set_verbosity is deprecated. Please use tf.compat.v1.logging.set_verbosity instead.\n",
      "\n",
      "W0711 21:15:01.961416 140694949987776 deprecation_wrapper.py:119] From trainer/model.py:20: The name tf.logging.INFO is deprecated. Please use tf.compat.v1.logging.INFO instead.\n",
      "\n",
      "I0711 21:15:01.964379 140694949987776 estimator.py:209] Using config: {'_save_checkpoints_secs': 60, '_num_ps_replicas': 0, '_keep_checkpoint_max': 5, '_task_type': 'worker', '_global_id_in_cluster': 0, '_is_chief': True, '_cluster_spec': <tensorflow.python.training.server_lib.ClusterSpec object at 0x7ff5dfe41ed0>, '_model_dir': 'cnnmodel/', '_protocol': None, '_save_checkpoints_steps': None, '_keep_checkpoint_every_n_hours': 10000, '_service': None, '_session_config': allow_soft_placement: true\n",
      "graph_options {\n",
      "  rewrite_options {\n",
      "    meta_optimizer_iterations: ONE\n",
      "  }\n",
      "}\n",
      ", '_tf_random_seed': None, '_save_summary_steps': 100, '_device_fn': None, '_experimental_distribute': None, '_num_worker_replicas': 1, '_task_id': 0, '_log_step_count_steps': 100, '_experimental_max_worker_delay_secs': None, '_evaluation_master': '', '_eval_distribute': None, '_train_distribute': None, '_master': ''}\n",
      "I0711 21:15:01.965508 140694949987776 estimator_training.py:186] Not using Distribute Coordinator.\n",
      "I0711 21:15:01.965828 140694949987776 training.py:612] Running training and evaluation locally (non-distributed).\n",
      "I0711 21:15:01.966185 140694949987776 training.py:700] Start train and evaluate loop. The evaluate will happen after every checkpoint. Checkpoint frequency is determined based on RunConfig arguments: save_checkpoints_steps None or save_checkpoints_secs 60.\n",
      "W0711 21:15:01.993679 140694949987776 deprecation.py:323] From /usr/local/lib/python2.7/dist-packages/tensorflow/python/training/training_util.py:236: initialized_value (from tensorflow.python.ops.variables) is deprecated and will be removed in a future version.\n",
      "Instructions for updating:\n",
      "Use Variable.read_value. Variables in 2.X are initialized automatically both in eager and graph (inside tf.defun) contexts.\n",
      "W0711 21:15:02.005203 140694949987776 deprecation_wrapper.py:119] From trainer/model.py:45: The name tf.train.match_filenames_once is deprecated. Please use tf.io.match_filenames_once instead.\n",
      "\n",
      "W0711 21:15:02.008851 140694949987776 deprecation.py:323] From trainer/model.py:47: string_input_producer (from tensorflow.python.training.input) is deprecated and will be removed in a future version.\n",
      "Instructions for updating:\n",
      "Queue-based input pipelines have been replaced by `tf.data`. Use `tf.data.Dataset.from_tensor_slices(string_tensor).shuffle(tf.shape(input_tensor, out_type=tf.int64)[0]).repeat(num_epochs)`. If `shuffle=False`, omit the `.shuffle(...)`.\n",
      "W0711 21:15:02.013448 140694949987776 deprecation.py:323] From /usr/local/lib/python2.7/dist-packages/tensorflow/python/training/input.py:278: input_producer (from tensorflow.python.training.input) is deprecated and will be removed in a future version.\n",
      "Instructions for updating:\n",
      "Queue-based input pipelines have been replaced by `tf.data`. Use `tf.data.Dataset.from_tensor_slices(input_tensor).shuffle(tf.shape(input_tensor, out_type=tf.int64)[0]).repeat(num_epochs)`. If `shuffle=False`, omit the `.shuffle(...)`.\n",
      "W0711 21:15:02.014329 140694949987776 deprecation.py:323] From /usr/local/lib/python2.7/dist-packages/tensorflow/python/training/input.py:190: limit_epochs (from tensorflow.python.training.input) is deprecated and will be removed in a future version.\n",
      "Instructions for updating:\n",
      "Queue-based input pipelines have been replaced by `tf.data`. Use `tf.data.Dataset.from_tensors(tensor).repeat(num_epochs)`.\n",
      "W0711 21:15:02.015892 140694949987776 deprecation.py:323] From /usr/local/lib/python2.7/dist-packages/tensorflow/python/training/input.py:199: __init__ (from tensorflow.python.training.queue_runner_impl) is deprecated and will be removed in a future version.\n",
      "Instructions for updating:\n",
      "To construct input pipelines, use the `tf.data` module.\n",
      "W0711 21:15:02.016916 140694949987776 deprecation.py:323] From /usr/local/lib/python2.7/dist-packages/tensorflow/python/training/input.py:199: add_queue_runner (from tensorflow.python.training.queue_runner_impl) is deprecated and will be removed in a future version.\n",
      "Instructions for updating:\n",
      "To construct input pipelines, use the `tf.data` module.\n",
      "W0711 21:15:02.025719 140694949987776 deprecation.py:323] From trainer/model.py:49: __init__ (from tensorflow.python.ops.io_ops) is deprecated and will be removed in a future version.\n",
      "Instructions for updating:\n",
      "Queue-based input pipelines have been replaced by `tf.data`. Use `tf.data.TextLineDataset`.\n",
      "W0711 21:15:02.028835 140694949987776 deprecation_wrapper.py:119] From trainer/model.py:55: The name tf.decode_csv is deprecated. Please use tf.io.decode_csv instead.\n",
      "\n",
      "I0711 21:15:02.080853 140694949987776 estimator.py:1145] Calling model_fn.\n",
      "W0711 21:15:02.082457 140694949987776 deprecation_wrapper.py:119] From trainer/model.py:71: The name tf.layers.Conv1D is deprecated. Please use tf.compat.v1.layers.Conv1D instead.\n",
      "\n",
      "W0711 21:15:02.086576 140694949987776 deprecation.py:506] From /usr/local/lib/python2.7/dist-packages/tensorflow/python/ops/init_ops.py:1251: calling __init__ (from tensorflow.python.ops.init_ops) with dtype is deprecated and will be removed in a future version.\n",
      "Instructions for updating:\n",
      "Call initializer instance with the dtype argument instead of passing it to the constructor\n",
      "W0711 21:15:02.195390 140694949987776 deprecation_wrapper.py:119] From trainer/model.py:74: The name tf.layers.MaxPooling1D is deprecated. Please use tf.compat.v1.layers.MaxPooling1D instead.\n",
      "\n",
      "W0711 21:15:02.862071 140694949987776 deprecation_wrapper.py:119] From trainer/model.py:81: The name tf.layers.Flatten is deprecated. Please use tf.compat.v1.layers.Flatten instead.\n",
      "\n",
      "W0711 21:15:03.089420 140694949987776 deprecation_wrapper.py:119] From trainer/model.py:82: The name tf.layers.Dense is deprecated. Please use tf.compat.v1.layers.Dense instead.\n",
      "\n",
      "W0711 21:15:03.382770 140694949987776 deprecation_wrapper.py:119] From trainer/model.py:113: The name tf.losses.mean_squared_error is deprecated. Please use tf.compat.v1.losses.mean_squared_error instead.\n",
      "\n",
      "W0711 21:15:03.392481 140694949987776 deprecation.py:323] From /usr/local/lib/python2.7/dist-packages/tensorflow/python/ops/losses/losses_impl.py:121: where (from tensorflow.python.ops.array_ops) is deprecated and will be removed in a future version.\n",
      "Instructions for updating:\n",
      "Use tf.where in 2.0, which has the same broadcast rule as np.where\n",
      "W0711 21:15:03.402792 140694949987776 deprecation_wrapper.py:119] From trainer/model.py:114: The name tf.metrics.root_mean_squared_error is deprecated. Please use tf.compat.v1.metrics.root_mean_squared_error instead.\n",
      "\n",
      "W0711 21:15:03.417259 140694949987776 deprecation_wrapper.py:119] From trainer/model.py:132: The name tf.get_collection is deprecated. Please use tf.compat.v1.get_collection instead.\n",
      "\n",
      "W0711 21:15:03.417514 140694949987776 deprecation_wrapper.py:119] From trainer/model.py:132: The name tf.GraphKeys is deprecated. Please use tf.compat.v1.GraphKeys instead.\n",
      "\n",
      "W0711 21:15:04.083118 140694949987776 lazy_loader.py:50] \n",
      "The TensorFlow contrib module will not be included in TensorFlow 2.0.\n",
      "For more information, please see:\n",
      "  * https://github.com/tensorflow/community/blob/master/rfcs/20180907-contrib-sunset.md\n",
      "  * https://github.com/tensorflow/addons\n",
      "  * https://github.com/tensorflow/io (for I/O related ops)\n",
      "If you depend on functionality not listed there, please file an issue.\n",
      "\n",
      "W0711 21:15:04.083451 140694949987776 deprecation_wrapper.py:119] From trainer/model.py:137: The name tf.train.get_global_step is deprecated. Please use tf.compat.v1.train.get_global_step instead.\n",
      "\n",
      "I0711 21:15:04.259200 140694949987776 estimator.py:1147] Done calling model_fn.\n",
      "I0711 21:15:04.260754 140694949987776 basic_session_run_hooks.py:541] Create CheckpointSaverHook.\n",
      "I0711 21:15:04.437889 140694949987776 monitored_session.py:240] Graph was finalized.\n",
      "2019-07-11 21:15:04.438367: I tensorflow/core/platform/cpu_feature_guard.cc:145] This TensorFlow binary is optimized with Intel(R) MKL-DNN to use the following CPU instructions in performance critical operations:  AVX2 FMA\n",
      "To enable them in non-MKL-DNN operations, rebuild TensorFlow with the appropriate compiler flags.\n",
      "2019-07-11 21:15:04.449234: I tensorflow/core/platform/profile_utils/cpu_utils.cc:94] CPU Frequency: 2200000000 Hz\n",
      "2019-07-11 21:15:04.449746: I tensorflow/compiler/xla/service/service.cc:168] XLA service 0x55f37be6c290 executing computations on platform Host. Devices:\n",
      "2019-07-11 21:15:04.449792: I tensorflow/compiler/xla/service/service.cc:175]   StreamExecutor device (0): <undefined>, <undefined>\n",
      "2019-07-11 21:15:04.450850: I tensorflow/core/common_runtime/process_util.cc:115] Creating new thread pool with default inter op setting: 2. Tune using inter_op_parallelism_threads for best performance.\n",
      "2019-07-11 21:15:04.541729: W tensorflow/compiler/jit/mark_for_compilation_pass.cc:1412] (One-time warning): Not using XLA:CPU for cluster because envvar TF_XLA_FLAGS=--tf_xla_cpu_global_jit was not set.  If you want XLA:CPU, either set that envvar, or use experimental_jit_scope to enable XLA:CPU.  To confirm that XLA is active, pass --vmodule=xla_compilation_cache=1 (as a proper command-line flag, not via TF_XLA_FLAGS) or set the envvar XLA_FLAGS=--xla_hlo_profile.\n",
      "I0711 21:15:04.659522 140694949987776 session_manager.py:500] Running local_init_op.\n",
      "I0711 21:15:04.743570 140694949987776 session_manager.py:502] Done running local_init_op.\n",
      "W0711 21:15:04.790983 140694949987776 deprecation.py:323] From /usr/local/lib/python2.7/dist-packages/tensorflow/python/training/monitored_session.py:875: start_queue_runners (from tensorflow.python.training.queue_runner_impl) is deprecated and will be removed in a future version.\n",
      "Instructions for updating:\n",
      "To construct input pipelines, use the `tf.data` module.\n",
      "I0711 21:15:05.090133 140694949987776 basic_session_run_hooks.py:606] Saving checkpoints for 0 into cnnmodel/model.ckpt.\n",
      "I0711 21:15:06.011373 140694949987776 basic_session_run_hooks.py:262] loss = 93004400.0, step = 1\n",
      "I0711 21:15:06.012387 140694949987776 basic_session_run_hooks.py:606] Saving checkpoints for 1 into cnnmodel/model.ckpt.\n",
      "I0711 21:15:06.267611 140694949987776 estimator.py:1145] Calling model_fn.\n",
      "I0711 21:15:06.381004 140694949987776 estimator.py:1147] Done calling model_fn.\n",
      "I0711 21:15:06.400652 140694949987776 evaluation.py:255] Starting evaluation at 2019-07-11T21:15:06Z\n",
      "I0711 21:15:06.641674 140694949987776 monitored_session.py:240] Graph was finalized.\n",
      "W0711 21:15:06.642317 140694949987776 deprecation.py:323] From /usr/local/lib/python2.7/dist-packages/tensorflow/python/training/saver.py:1276: checkpoint_exists (from tensorflow.python.training.checkpoint_management) is deprecated and will be removed in a future version.\n",
      "Instructions for updating:\n",
      "Use standard file APIs to check for files with this prefix.\n",
      "I0711 21:15:06.643702 140694949987776 saver.py:1280] Restoring parameters from cnnmodel/model.ckpt-1\n",
      "I0711 21:15:06.708631 140694949987776 session_manager.py:500] Running local_init_op.\n",
      "I0711 21:15:06.786346 140694949987776 session_manager.py:502] Done running local_init_op.\n",
      "I0711 21:15:09.795037 140694949987776 evaluation.py:167] Evaluation [10/100]\n",
      "I0711 21:15:12.353305 140694949987776 evaluation.py:167] Evaluation [20/100]\n",
      "I0711 21:15:14.955313 140694949987776 evaluation.py:167] Evaluation [30/100]\n",
      "I0711 21:15:17.450311 140694949987776 evaluation.py:167] Evaluation [40/100]\n",
      "I0711 21:15:19.984045 140694949987776 evaluation.py:167] Evaluation [50/100]\n",
      "I0711 21:15:22.550451 140694949987776 evaluation.py:167] Evaluation [60/100]\n",
      "I0711 21:15:25.171101 140694949987776 evaluation.py:167] Evaluation [70/100]\n",
      "I0711 21:15:27.729645 140694949987776 evaluation.py:167] Evaluation [80/100]\n",
      "I0711 21:15:30.260885 140694949987776 evaluation.py:167] Evaluation [90/100]\n",
      "I0711 21:15:32.869868 140694949987776 evaluation.py:167] Evaluation [100/100]\n",
      "I0711 21:15:32.936399 140694949987776 evaluation.py:275] Finished evaluation at 2019-07-11-21:15:32\n",
      "I0711 21:15:32.936994 140694949987776 estimator.py:2039] Saving dict for global step 1: global_step = 1, loss = 1966680800.0, rmse = 44347.273\n",
      "I0711 21:15:33.042350 140694949987776 estimator.py:2099] Saving 'checkpoint_path' summary for global step 1: cnnmodel/model.ckpt-1\n",
      "W0711 21:15:33.052726 140694949987776 deprecation_wrapper.py:119] From trainer/model.py:89: The name tf.placeholder is deprecated. Please use tf.compat.v1.placeholder instead.\n",
      "\n",
      "I0711 21:15:33.057446 140694949987776 estimator.py:1145] Calling model_fn.\n",
      "I0711 21:15:33.134098 140694949987776 estimator.py:1147] Done calling model_fn.\n",
      "W0711 21:15:33.134469 140694949987776 deprecation.py:323] From /usr/local/lib/python2.7/dist-packages/tensorflow/python/saved_model/signature_def_utils_impl.py:201: build_tensor_info (from tensorflow.python.saved_model.utils_impl) is deprecated and will be removed in a future version.\n",
      "Instructions for updating:\n",
      "This function will only be available through the v1 compatibility library as tf.compat.v1.saved_model.utils.build_tensor_info or tf.compat.v1.saved_model.build_tensor_info.\n",
      "I0711 21:15:33.134958 140694949987776 export_utils.py:170] Signatures INCLUDED in export for Eval: None\n",
      "I0711 21:15:33.135096 140694949987776 export_utils.py:170] Signatures INCLUDED in export for Classify: None\n",
      "I0711 21:15:33.135191 140694949987776 export_utils.py:170] Signatures INCLUDED in export for Regress: None\n",
      "I0711 21:15:33.135277 140694949987776 export_utils.py:170] Signatures INCLUDED in export for Predict: ['serving_default', 'predictions']\n",
      "I0711 21:15:33.135349 140694949987776 export_utils.py:170] Signatures INCLUDED in export for Train: None\n",
      "I0711 21:15:33.155390 140694949987776 saver.py:1280] Restoring parameters from cnnmodel/model.ckpt-1\n",
      "I0711 21:15:33.184438 140694949987776 builder_impl.py:661] Assets added to graph.\n",
      "I0711 21:15:33.184758 140694949987776 builder_impl.py:456] No assets to write.\n",
      "I0711 21:15:33.226413 140694949987776 builder_impl.py:421] SavedModel written to: cnnmodel/export/exporter/temp-1562879733/saved_model.pb\n",
      "I0711 21:15:33.249557 140694949987776 estimator.py:368] Loss for final step: 93004400.0.\n"
     ]
    }
   ],
   "source": [
    "%%bash\n",
    "rm -rf cnnmodel\n",
    "python -m trainer.task \\\n",
    "  --train_data_paths=gs://${BUCKET}/data/train.csv \\\n",
    "  --eval_data_paths=gs://${BUCKET}/data/eval.csv \\\n",
    "  --output_dir=cnnmodel \\\n",
    "  --job-dir=./tmp \\\n",
    "  --train_steps=1"
   ]
  },
  {
   "cell_type": "markdown",
   "metadata": {},
   "source": [
    "## 3. Train in Cloud ML "
   ]
  },
  {
   "cell_type": "code",
   "execution_count": 21,
   "metadata": {},
   "outputs": [
    {
     "name": "stdout",
     "output_type": "stream",
     "text": [
      "jobId: uscdemo_190711_211710\n",
      "state: QUEUED\n"
     ]
    },
    {
     "name": "stderr",
     "output_type": "stream",
     "text": [
      "CommandException: No URLs matched: gs://usc-demo/out/trained\n",
      "Job [uscdemo_190711_211710] submitted successfully.\n",
      "Your job is still active. You may view the status of your job with the command\n",
      "\n",
      "  $ gcloud ai-platform jobs describe uscdemo_190711_211710\n",
      "\n",
      "or continue streaming the logs with the command\n",
      "\n",
      "  $ gcloud ai-platform jobs stream-logs uscdemo_190711_211710\n"
     ]
    }
   ],
   "source": [
    "%%bash\n",
    "SEQ_LEN=90\n",
    "gsutil rm -r gs://${BUCKET}/out/trained\n",
    "JOBNAME=uscdemo_$(date -u +%y%m%d_%H%M%S)\n",
    "gcloud ai-platform jobs submit training $JOBNAME \\\n",
    "  --job-dir=gs://${BUCKET}/out/trained \\\n",
    "  --package-path=${PWD}/trainer \\\n",
    "  --module-name=trainer.task \\\n",
    "  --region=us-west1 \\\n",
    "  --runtime-version=1.8 \\\n",
    "  --scale-tier=BASIC \\\n",
    "  -- \\\n",
    "  --train_data_paths=gs://${BUCKET}/data/train.csv \\\n",
    "  --eval_data_paths=gs://${BUCKET}/data/eval.csv  \\\n",
    "  --output_dir=gs://${BUCKET}/out/trained"
   ]
  },
  {
   "cell_type": "markdown",
   "metadata": {},
   "source": [
    "   "
   ]
  },
  {
   "cell_type": "markdown",
   "metadata": {},
   "source": [
    "**Run below lines to see the Hyperparameter Tuning**"
   ]
  },
  {
   "cell_type": "code",
   "execution_count": 27,
   "metadata": {},
   "outputs": [],
   "source": [
    "#%%bash\n",
    "#gcloud ai-platform jobs describe demandml_190523_151932_v19"
   ]
  },
  {
   "cell_type": "markdown",
   "metadata": {},
   "source": [
    "## 4. Create and Delploy the trained job on model "
   ]
  },
  {
   "cell_type": "markdown",
   "metadata": {},
   "source": [
    "**Run it only after your Job has completed running**"
   ]
  },
  {
   "cell_type": "code",
   "execution_count": 22,
   "metadata": {},
   "outputs": [
    {
     "name": "stdout",
     "output_type": "stream",
     "text": [
      "Deleting and deploying revenueml_190711_212322 v1 from gs://usc-demo/out/trained/export/exporter/1562880084/ ... this will take a few minutes\n"
     ]
    },
    {
     "name": "stderr",
     "output_type": "stream",
     "text": [
      "WARNING: The `gcloud ml-engine` commands have been renamed and will soon be removed. Please use `gcloud ai-platform` instead.\n",
      "WARNING: `--regions` flag will soon be required. Please explicitly specify a region. Using [us-central1] by default.\n",
      "Created ml engine model [projects/usc-demo-class/models/revenueml_190711_212322].\n",
      "Creating version (this might take a few minutes)......\n",
      "......................................................................................................................................................................................................................................................................................................done.\n"
     ]
    }
   ],
   "source": [
    "%%bash\n",
    "REGION='us-west1'\n",
    "MODEL_NAME=revenueml_$(date -u +%y%m%d_%H%M%S)\n",
    "MODEL_VERSION=\"v1\"\n",
    "gcloud ml-engine models create $MODEL_NAME\n",
    "MODEL_LOCATION=$(gsutil ls gs://${BUCKET}/out/trained/export/exporter/ | tail -1)\n",
    "echo \"Deleting and deploying $MODEL_NAME $MODEL_VERSION from $MODEL_LOCATION ... this will take a few minutes\"\n",
    "\n",
    "gcloud ai-platform versions create ${MODEL_VERSION} --model ${MODEL_NAME} --origin ${MODEL_LOCATION} --runtime-version 1.8"
   ]
  },
  {
   "cell_type": "markdown",
   "metadata": {},
   "source": [
    "**THE MODEL IS DEPLOYED .... YAYYY !!!**"
   ]
  },
  {
   "cell_type": "markdown",
   "metadata": {},
   "source": [
    "## Cloud ML Prediction"
   ]
  },
  {
   "cell_type": "markdown",
   "metadata": {},
   "source": [
    "*You might see some errors after running it, but as long as your model is deployed, you can ignore them*"
   ]
  },
  {
   "cell_type": "code",
   "execution_count": 25,
   "metadata": {},
   "outputs": [
    {
     "name": "stderr",
     "output_type": "stream",
     "text": [
      "W0711 21:26:37.274626 139935977514752 __init__.py:44] file_cache is unavailable when using oauth2client >= 4.0.0 or google-auth\n",
      "Traceback (most recent call last):\n",
      "  File \"/home/jupyter/.local/lib/python3.5/site-packages/googleapiclient/discovery_cache/__init__.py\", line 36, in autodetect\n",
      "    from google.appengine.api import memcache\n",
      "ImportError: No module named 'google.appengine'\n",
      "\n",
      "During handling of the above exception, another exception occurred:\n",
      "\n",
      "Traceback (most recent call last):\n",
      "  File \"/home/jupyter/.local/lib/python3.5/site-packages/googleapiclient/discovery_cache/file_cache.py\", line 33, in <module>\n",
      "    from oauth2client.contrib.locked_file import LockedFile\n",
      "ImportError: No module named 'oauth2client.contrib.locked_file'\n",
      "\n",
      "During handling of the above exception, another exception occurred:\n",
      "\n",
      "Traceback (most recent call last):\n",
      "  File \"/home/jupyter/.local/lib/python3.5/site-packages/googleapiclient/discovery_cache/file_cache.py\", line 37, in <module>\n",
      "    from oauth2client.locked_file import LockedFile\n",
      "ImportError: No module named 'oauth2client.locked_file'\n",
      "\n",
      "During handling of the above exception, another exception occurred:\n",
      "\n",
      "Traceback (most recent call last):\n",
      "  File \"/home/jupyter/.local/lib/python3.5/site-packages/googleapiclient/discovery_cache/__init__.py\", line 41, in autodetect\n",
      "    from . import file_cache\n",
      "  File \"/home/jupyter/.local/lib/python3.5/site-packages/googleapiclient/discovery_cache/file_cache.py\", line 41, in <module>\n",
      "    'file_cache is unavailable when using oauth2client >= 4.0.0 or google-auth')\n",
      "ImportError: file_cache is unavailable when using oauth2client >= 4.0.0 or google-auth\n"
     ]
    },
    {
     "name": "stdout",
     "output_type": "stream",
     "text": [
      "revenueml_190711_212322\n"
     ]
    }
   ],
   "source": [
    "from googleapiclient import discovery\n",
    "from oauth2client.client import GoogleCredentials\n",
    "import json\n",
    "\n",
    "MODEL_NAME = 'revenueml_190711_212322'  #Change the Model name here, Put the name of your Model !!!\n",
    "print(MODEL_NAME)\n",
    "\n",
    "credentials = GoogleCredentials.get_application_default()\n",
    "api = discovery.build('ml', 'v1', credentials=credentials)\n",
    "\n",
    "test = test\n",
    "request_data = {\"instances\": [test]}\n",
    "\n",
    " \n",
    "parent = 'projects/%s/models/%s/versions/%s' % (PROJECT,MODEL_NAME, 'v1')\n",
    "response = api.projects().predict(body = request_data, name = parent).execute()\n",
    "#print \"response={0}\".format(response)"
   ]
  },
  {
   "cell_type": "markdown",
   "metadata": {},
   "source": [
    "   "
   ]
  },
  {
   "cell_type": "markdown",
   "metadata": {},
   "source": [
    "## Checking for Predictions using ML Model on GCP"
   ]
  },
  {
   "cell_type": "code",
   "execution_count": 27,
   "metadata": {},
   "outputs": [],
   "source": [
    "a = response[\"predictions\"] "
   ]
  },
  {
   "cell_type": "code",
   "execution_count": 28,
   "metadata": {},
   "outputs": [],
   "source": [
    "dictlist=[] "
   ]
  },
  {
   "cell_type": "code",
   "execution_count": 29,
   "metadata": {},
   "outputs": [],
   "source": [
    "for key, value in a[0].items():\n",
    "    temp = [key,value]\n",
    "    dictlist.append(temp)"
   ]
  },
  {
   "cell_type": "code",
   "execution_count": 30,
   "metadata": {},
   "outputs": [],
   "source": [
    "predicted = data[-30:]\n",
    "predicted = pd.DataFrame(predicted)\n",
    "predicted.reset_index(drop=True, inplace=True)"
   ]
  },
  {
   "cell_type": "code",
   "execution_count": 31,
   "metadata": {},
   "outputs": [],
   "source": [
    "a = dictlist[0]\n",
    "a = a[1]\n",
    "a = pd.DataFrame(a)"
   ]
  },
  {
   "cell_type": "code",
   "execution_count": 33,
   "metadata": {},
   "outputs": [
    {
     "data": {
      "text/html": [
       "<div>\n",
       "<style scoped>\n",
       "    .dataframe tbody tr th:only-of-type {\n",
       "        vertical-align: middle;\n",
       "    }\n",
       "\n",
       "    .dataframe tbody tr th {\n",
       "        vertical-align: top;\n",
       "    }\n",
       "\n",
       "    .dataframe thead th {\n",
       "        text-align: right;\n",
       "    }\n",
       "</style>\n",
       "<table border=\"1\" class=\"dataframe\">\n",
       "  <thead>\n",
       "    <tr style=\"text-align: right;\">\n",
       "      <th></th>\n",
       "      <th>DATE</th>\n",
       "      <th>ACTUAL</th>\n",
       "      <th>FORECAST</th>\n",
       "    </tr>\n",
       "  </thead>\n",
       "  <tbody>\n",
       "    <tr>\n",
       "      <th>0</th>\n",
       "      <td>2018-08-02</td>\n",
       "      <td>7985.0</td>\n",
       "      <td>6059.0</td>\n",
       "    </tr>\n",
       "    <tr>\n",
       "      <th>1</th>\n",
       "      <td>2018-08-03</td>\n",
       "      <td>11410.0</td>\n",
       "      <td>7848.0</td>\n",
       "    </tr>\n",
       "    <tr>\n",
       "      <th>2</th>\n",
       "      <td>2018-08-04</td>\n",
       "      <td>22748.0</td>\n",
       "      <td>9374.0</td>\n",
       "    </tr>\n",
       "    <tr>\n",
       "      <th>3</th>\n",
       "      <td>2018-08-05</td>\n",
       "      <td>17623.0</td>\n",
       "      <td>9428.0</td>\n",
       "    </tr>\n",
       "    <tr>\n",
       "      <th>4</th>\n",
       "      <td>2018-08-06</td>\n",
       "      <td>14273.0</td>\n",
       "      <td>7677.0</td>\n",
       "    </tr>\n",
       "  </tbody>\n",
       "</table>\n",
       "</div>"
      ],
      "text/plain": [
       "        DATE   ACTUAL  FORECAST\n",
       "0 2018-08-02   7985.0    6059.0\n",
       "1 2018-08-03  11410.0    7848.0\n",
       "2 2018-08-04  22748.0    9374.0\n",
       "3 2018-08-05  17623.0    9428.0\n",
       "4 2018-08-06  14273.0    7677.0"
      ]
     },
     "execution_count": 33,
     "metadata": {},
     "output_type": "execute_result"
    }
   ],
   "source": [
    "frames = (date,predicted,a)\n",
    "result = pd.concat((dates,predicted,a), axis = 1)\n",
    "result.columns = [\"DATE\", \"ACTUAL\",\"FORECAST\"]\n",
    "forecast_df = result\n",
    "forecast_df = forecast_df.round()\n",
    "forecast_df = forecast_df.fillna(0)\n",
    "for i in range(0, len(forecast_df)):\n",
    "    if forecast_df.FORECAST[i] <= 0:\n",
    "        forecast_df.FORECAST[i] = 0\n",
    "forecast_df.head()"
   ]
  },
  {
   "cell_type": "code",
   "execution_count": 34,
   "metadata": {},
   "outputs": [
    {
     "data": {
      "text/html": [
       "<div>\n",
       "<style scoped>\n",
       "    .dataframe tbody tr th:only-of-type {\n",
       "        vertical-align: middle;\n",
       "    }\n",
       "\n",
       "    .dataframe tbody tr th {\n",
       "        vertical-align: top;\n",
       "    }\n",
       "\n",
       "    .dataframe thead th {\n",
       "        text-align: right;\n",
       "    }\n",
       "</style>\n",
       "<table border=\"1\" class=\"dataframe\">\n",
       "  <thead>\n",
       "    <tr style=\"text-align: right;\">\n",
       "      <th></th>\n",
       "      <th>departmentname</th>\n",
       "      <th>upc_code</th>\n",
       "      <th>DATE</th>\n",
       "      <th>ACTUAL</th>\n",
       "      <th>FORECAST</th>\n",
       "    </tr>\n",
       "  </thead>\n",
       "  <tbody>\n",
       "    <tr>\n",
       "      <th>0</th>\n",
       "      <td>Bakery</td>\n",
       "      <td>25097000000</td>\n",
       "      <td>2018-08-02</td>\n",
       "      <td>7985.0</td>\n",
       "      <td>6059.0</td>\n",
       "    </tr>\n",
       "    <tr>\n",
       "      <th>1</th>\n",
       "      <td>Bakery</td>\n",
       "      <td>25097000000</td>\n",
       "      <td>2018-08-03</td>\n",
       "      <td>11410.0</td>\n",
       "      <td>7848.0</td>\n",
       "    </tr>\n",
       "    <tr>\n",
       "      <th>2</th>\n",
       "      <td>Bakery</td>\n",
       "      <td>25097000000</td>\n",
       "      <td>2018-08-04</td>\n",
       "      <td>22748.0</td>\n",
       "      <td>9374.0</td>\n",
       "    </tr>\n",
       "    <tr>\n",
       "      <th>3</th>\n",
       "      <td>Bakery</td>\n",
       "      <td>25097000000</td>\n",
       "      <td>2018-08-05</td>\n",
       "      <td>17623.0</td>\n",
       "      <td>9428.0</td>\n",
       "    </tr>\n",
       "    <tr>\n",
       "      <th>4</th>\n",
       "      <td>Bakery</td>\n",
       "      <td>25097000000</td>\n",
       "      <td>2018-08-06</td>\n",
       "      <td>14273.0</td>\n",
       "      <td>7677.0</td>\n",
       "    </tr>\n",
       "  </tbody>\n",
       "</table>\n",
       "</div>"
      ],
      "text/plain": [
       "  departmentname     upc_code       DATE   ACTUAL  FORECAST\n",
       "0         Bakery  25097000000 2018-08-02   7985.0    6059.0\n",
       "1         Bakery  25097000000 2018-08-03  11410.0    7848.0\n",
       "2         Bakery  25097000000 2018-08-04  22748.0    9374.0\n",
       "3         Bakery  25097000000 2018-08-05  17623.0    9428.0\n",
       "4         Bakery  25097000000 2018-08-06  14273.0    7677.0"
      ]
     },
     "execution_count": 34,
     "metadata": {},
     "output_type": "execute_result"
    }
   ],
   "source": [
    "upc_list = []\n",
    "departmentname_list = []\n",
    "\n",
    "for i in range(0, 60):\n",
    "    upc_list.append(upc_code)\n",
    "    departmentname_list.append(departmentname)\n",
    "    \n",
    "details_df = pd.DataFrame({\n",
    "    \"upc_code\": upc_list,\n",
    "    \"departmentname\": departmentname_list\n",
    "})\n",
    "\n",
    "final_df = pd.concat((details_df, forecast_df), axis = 1)\n",
    "final_df.head()"
   ]
  },
  {
   "cell_type": "code",
   "execution_count": 35,
   "metadata": {},
   "outputs": [
    {
     "data": {
      "image/png": "[encoded data removed]",
      "text/plain": [
       "<Figure size 1152x576 with 1 Axes>"
      ]
     },
     "metadata": {
      "needs_background": "light"
     },
     "output_type": "display_data"
    }
   ],
   "source": [
    "plt.figure(figsize=(16,8))\n",
    "plt.plot(final_df.ACTUAL, label = \"Test Value\")\n",
    "plt.plot(final_df.FORECAST, label = \"Predicted Value\")\n",
    "plt.title(\"Actual v/s Forecast values\")\n",
    "plt.legend()\n",
    "plt.show()"
   ]
  },
  {
   "cell_type": "markdown",
   "metadata": {},
   "source": [
    "## Save forecast file to storage bucket"
   ]
  },
  {
   "cell_type": "code",
   "execution_count": 36,
   "metadata": {},
   "outputs": [],
   "source": [
    "final_df.to_csv(\"forecast.csv\")"
   ]
  },
  {
   "cell_type": "code",
   "execution_count": 48,
   "metadata": {},
   "outputs": [
    {
     "data": {
      "text/html": [
       "<div>\n",
       "<style scoped>\n",
       "    .dataframe tbody tr th:only-of-type {\n",
       "        vertical-align: middle;\n",
       "    }\n",
       "\n",
       "    .dataframe tbody tr th {\n",
       "        vertical-align: top;\n",
       "    }\n",
       "\n",
       "    .dataframe thead th {\n",
       "        text-align: right;\n",
       "    }\n",
       "</style>\n",
       "<table border=\"1\" class=\"dataframe\">\n",
       "  <thead>\n",
       "    <tr style=\"text-align: right;\">\n",
       "      <th></th>\n",
       "      <th>departmentname</th>\n",
       "      <th>upc_code</th>\n",
       "      <th>DATE</th>\n",
       "      <th>ACTUAL</th>\n",
       "      <th>FORECAST</th>\n",
       "    </tr>\n",
       "  </thead>\n",
       "  <tbody>\n",
       "    <tr>\n",
       "      <th>0</th>\n",
       "      <td>Bakery</td>\n",
       "      <td>25097000000</td>\n",
       "      <td>2018-08-02</td>\n",
       "      <td>7985.0</td>\n",
       "      <td>12281.0</td>\n",
       "    </tr>\n",
       "    <tr>\n",
       "      <th>1</th>\n",
       "      <td>Bakery</td>\n",
       "      <td>25097000000</td>\n",
       "      <td>2018-08-03</td>\n",
       "      <td>11410.0</td>\n",
       "      <td>13427.0</td>\n",
       "    </tr>\n",
       "    <tr>\n",
       "      <th>2</th>\n",
       "      <td>Bakery</td>\n",
       "      <td>25097000000</td>\n",
       "      <td>2018-08-04</td>\n",
       "      <td>22748.0</td>\n",
       "      <td>16572.0</td>\n",
       "    </tr>\n",
       "    <tr>\n",
       "      <th>3</th>\n",
       "      <td>Bakery</td>\n",
       "      <td>25097000000</td>\n",
       "      <td>2018-08-05</td>\n",
       "      <td>17623.0</td>\n",
       "      <td>21985.0</td>\n",
       "    </tr>\n",
       "    <tr>\n",
       "      <th>4</th>\n",
       "      <td>Bakery</td>\n",
       "      <td>25097000000</td>\n",
       "      <td>2018-08-06</td>\n",
       "      <td>14273.0</td>\n",
       "      <td>19316.0</td>\n",
       "    </tr>\n",
       "  </tbody>\n",
       "</table>\n",
       "</div>"
      ],
      "text/plain": [
       "  departmentname     upc_code       DATE   ACTUAL  FORECAST\n",
       "0         Bakery  25097000000 2018-08-02   7985.0   12281.0\n",
       "1         Bakery  25097000000 2018-08-03  11410.0   13427.0\n",
       "2         Bakery  25097000000 2018-08-04  22748.0   16572.0\n",
       "3         Bakery  25097000000 2018-08-05  17623.0   21985.0\n",
       "4         Bakery  25097000000 2018-08-06  14273.0   19316.0"
      ]
     },
     "execution_count": 48,
     "metadata": {},
     "output_type": "execute_result"
    }
   ],
   "source": [
    "final_df.head()"
   ]
  },
  {
   "cell_type": "markdown",
   "metadata": {},
   "source": [
    "**Save the Predictions file on GCS**"
   ]
  },
  {
   "cell_type": "code",
   "execution_count": 37,
   "metadata": {},
   "outputs": [
    {
     "name": "stdout",
     "output_type": "stream",
     "text": [
      "Copying file://forecast.csv [Content-Type=text/csv]...\n",
      "/ [1 files][  2.7 KiB/  2.7 KiB]                                                \n",
      "Operation completed over 1 objects/2.7 KiB.                                      \n"
     ]
    }
   ],
   "source": [
    "!gsutil cp -r forecast.csv gs://usc-demo/"
   ]
  },
  {
   "cell_type": "code",
   "execution_count": null,
   "metadata": {},
   "outputs": [],
   "source": []
  }
 ],
 "metadata": {
  "kernelspec": {
   "display_name": "Python 3",
   "language": "python",
   "name": "python3"
  },
  "language_info": {
   "codemirror_mode": {
    "name": "ipython",
    "version": 3
   },
   "file_extension": ".py",
   "mimetype": "text/x-python",
   "name": "python",
   "nbconvert_exporter": "python",
   "pygments_lexer": "ipython3",
   "version": "3.5.3"
  }
 },
 "nbformat": 4,
 "nbformat_minor": 2
}
